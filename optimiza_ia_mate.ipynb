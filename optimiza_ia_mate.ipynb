{
 "cells": [
  {
   "cell_type": "code",
   "execution_count": 1,
   "metadata": {},
   "outputs": [],
   "source": [
    "from ortools.sat.python import cp_model\n",
    "import pandas as pd"
   ]
  },
  {
   "cell_type": "code",
   "execution_count": 6,
   "metadata": {},
   "outputs": [],
   "source": [
    "def multiplicar_matriz(matriz1,matriz2):\n",
    "    return[matriz1[i][j]*matriz2[i][j] for i in range(total_avioes) for j in range(total_estacionamentos)]\n",
    "\n",
    "def resolve(solucionador, modelo, X):\n",
    "    status = solucionador.Solve(modelo)\n",
    "    print(f\"Status: {status}\")\n",
    "\n",
    "    if status == cp_model.OPTIMAL:\n",
    "        print(\"Optimal\")\n",
    "\n",
    "        for i, linha, in enumerate(X):\n",
    "            for j, variavel in enumerate(linha):\n",
    "                valor= solucionador.Value(variavel)\n",
    "                if valor == 1:\n",
    "                    print(f\"{variavel} = {valor}\")\n",
    "\n",
    "        print(f\"Custo total={solucionador.ObjectiveValue()}\")            \n",
    "    else:\n",
    "        print(\"Soluçao nao encontrada\")  \n"
   ]
  },
  {
   "cell_type": "code",
   "execution_count": 7,
   "metadata": {},
   "outputs": [
    {
     "name": "stdout",
     "output_type": "stream",
     "text": [
      "Aviao 0 = [aviao_0(0..1), aviao_0(0..1), aviao_0(0..1)]\n",
      "Aviao 1 = [aviao_1(0..1), aviao_1(0..1), aviao_1(0..1)]\n",
      "Status: 4\n",
      "Optimal\n",
      "aviao_0 = 1\n",
      "aviao_1 = 1\n",
      "Custo total=350000.0\n"
     ]
    }
   ],
   "source": [
    "modelo = cp_model.CpModel()\n",
    "solucionaodr  = cp_model.CpSolver()\n",
    "\n",
    "total_avioes = 2\n",
    "total_estacionamentos = 3\n",
    "\n",
    "requer_onibus = [0,1,0]\n",
    "distancias = [10,200,20]\n",
    "passageiros =[100,150]\n",
    "\n",
    "custos = []\n",
    "for i in range(total_avioes):\n",
    "    custos_do_aviao = []\n",
    "    for j in range(total_estacionamentos):\n",
    "        if requer_onibus[j]:\n",
    "            custo= 500* distancias[j]* passageiros[i]\n",
    "        else:\n",
    "            custo= 100 * distancias[j] * passageiros[i]\n",
    "        custos_do_aviao.append(custo)\n",
    "    custos.append(custos_do_aviao)\n",
    "            \n",
    "\n",
    "X= [[modelo.NewBoolVar(f\"aviao_{i}\") for j in range(total_estacionamentos)] for i in range(total_avioes)]\n",
    "\n",
    "for i, linha in enumerate(X):\n",
    "    print(f\"Aviao {i} = {linha}\")\n",
    "\n",
    "for linha_aviao in X:\n",
    "    modelo.AddExactlyOne(linha_aviao)\n",
    "\n",
    "for j in range(total_estacionamentos):\n",
    "    modelo.AddAtMostOne([X[i][j] for i in range(total_avioes)])\n",
    "\n",
    "modelo.Minimize(sum(multiplicar_matriz(X, custos)))    \n",
    "\n",
    "resolve(solucionaodr, modelo, X)       "
   ]
  },
  {
   "cell_type": "code",
   "execution_count": null,
   "metadata": {},
   "outputs": [],
   "source": []
  }
 ],
 "metadata": {
  "kernelspec": {
   "display_name": "Python 3",
   "language": "python",
   "name": "python3"
  },
  "language_info": {
   "codemirror_mode": {
    "name": "ipython",
    "version": 3
   },
   "file_extension": ".py",
   "mimetype": "text/x-python",
   "name": "python",
   "nbconvert_exporter": "python",
   "pygments_lexer": "ipython3",
   "version": "3.11.0"
  }
 },
 "nbformat": 4,
 "nbformat_minor": 2
}
